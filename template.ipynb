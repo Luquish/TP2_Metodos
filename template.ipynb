{
  "cells": [
    {
      "cell_type": "code",
      "execution_count": 92,
      "metadata": {
        "id": "Yc_QGcPrvhgj"
      },
      "outputs": [],
      "source": [
        "import numpy as np\n",
        "import pandas as pd\n",
        "import matplotlib.pyplot as plt\n",
        "import sympy as sym"
      ]
    },
    {
      "cell_type": "code",
      "execution_count": 161,
      "metadata": {
        "id": "Zz81ZoDxvhgm"
      },
      "outputs": [],
      "source": [
        "def sigmoid(x):\n",
        "    return 1 / (1 + np.exp(-x))\n",
        "\n",
        "def forward(x, W1, b1, W2, b2):\n",
        "    z1 = x @ W1.T + b1.T\n",
        "    a1 = sigmoid(z1)\n",
        "    z2 = a1 @ W2.T + b2.T\n",
        "    return z2"
      ]
    },
    {
      "cell_type": "code",
      "execution_count": 97,
      "metadata": {},
      "outputs": [],
      "source": [
        "#Calculo del gradiente numerico\n",
        "\n",
        "W_1, W_2, b_1, b_2, x_i, y_i = sym.symbols('W_1 W_2 b_1 b_2 x_i y_i')\n",
        "sym_l = 1/2 * (W_2 * 1/(1 + sym.exp(-(W_1 * x_i + b_1))) + b_2 - y_i)**2\n",
        "\n",
        "l_w1 = sym_l.diff(W_1)\n",
        "l_w2 = sym_l.diff(W_2)\n",
        "l_b1 = sym_l.diff(b_1)\n",
        "l_b2 = sym_l.diff(b_2)\n",
        "\n",
        "l_r_w1 = sym.lambdify((W_1, W_2, b_1, b_2, x_i, y_i), l_w1)\n",
        "l_r_w2 = sym.lambdify((W_1, W_2, b_1, b_2, x_i, y_i), l_w2)\n",
        "l_r_b1 = sym.lambdify((W_1, W_2, b_1, b_2, x_i, y_i), l_b1)\n",
        "l_r_b2 = sym.lambdify((W_1, W_2, b_1, b_2, x_i, y_i), l_b2)"
      ]
    },
    {
      "cell_type": "code",
      "execution_count": 114,
      "metadata": {
        "id": "P-R0FjEzvhgn"
      },
      "outputs": [],
      "source": [
        "def loss(x_i, y_i, W1, b1, W2, b2):\n",
        "    return 1/2 * (forward(x_i, W1, b1, W2, b2) - y_i)**2\n",
        "\n",
        "# \\theta_{t+1} = \\theta_t - \\alpha \\frac{\\partial L}{\\partial \\theta}(\\theta_t)\n",
        "\n",
        "def numerical_gradient(eps, x_i, y_i, W1, b1, W2, b2, alpha):\n",
        "    \n",
        "    l_r_W1 = (loss(x_i, y_i, W1 + eps, b1, W2, b2) - loss(x_i, y_i, W1 - eps, b1, W2, b2) / (2 * eps))\n",
        "    l_r_b1 = (loss(x_i, y_i, W1, b1 + eps, W2, b2) - loss(x_i, y_i, W1, b1 - eps, W2, b2) / (2 * eps))\n",
        "    l_r_W2 = (loss(x_i, y_i, W1, b1, W2 + eps, b2) - loss(x_i, y_i, W1, b1, W2 - eps, b2) / (2 * eps))\n",
        "    l_r_b2 = (loss(x_i, y_i, W1, b1, W2, b2 + eps) - loss(x_i, y_i, W1, b1, W2, b2 - eps) / (2 * eps))\n",
        "\n",
        "    W1_ = W1 - alpha * np.mean(l_r_W1)\n",
        "    b1_ = b1 - alpha * np.mean(l_r_b1)\n",
        "    W2_ = W2 - alpha * np.mean(l_r_W2)\n",
        "    b2_ = b2 - alpha * np.mean(l_r_b2)\n",
        "\n",
        "    return W1_, b1_, W2_, b2_\n"
      ]
    },
    {
      "cell_type": "code",
      "execution_count": 100,
      "metadata": {},
      "outputs": [
        {
          "data": {
            "text/plain": [
              "array([[0.71924262, 0.83574391, 0.9604143 , 0.56710861, 0.80096772,\n",
              "        0.36579283],\n",
              "       [0.99786278, 0.95901988, 0.6108568 , 0.9909269 , 0.1086536 ,\n",
              "        0.25212119],\n",
              "       [0.59988936, 0.03287162, 0.14734478, 0.7890223 , 0.85647758,\n",
              "        0.80602033],\n",
              "       [0.05792731, 0.6517728 , 0.67321431, 0.21996205, 0.86172154,\n",
              "        0.85594157],\n",
              "       [0.71802229, 0.64971445, 0.35677804, 0.5829452 , 0.4794751 ,\n",
              "        0.06625921]])"
            ]
          },
          "metadata": {},
          "output_type": "display_data"
        },
        {
          "data": {
            "text/plain": [
              "array([[0.36953233],\n",
              "       [0.23192118],\n",
              "       [0.80431604],\n",
              "       [0.10097751],\n",
              "       [0.94978634]])"
            ]
          },
          "metadata": {},
          "output_type": "display_data"
        },
        {
          "data": {
            "text/plain": [
              "array([[0.25638472, 0.2387607 , 0.88957332, 0.16229908, 0.73091303]])"
            ]
          },
          "metadata": {},
          "output_type": "display_data"
        },
        {
          "data": {
            "text/plain": [
              "array([[0.17497787]])"
            ]
          },
          "metadata": {},
          "output_type": "display_data"
        }
      ],
      "source": [
        "#Inicializacion de pesos\n",
        "W1 = np.random.random((5,6))\n",
        "b1 = np.random.random((5,1))\n",
        "\n",
        "W2 = np.random.random((1,5))\n",
        "b2 = np.random.random((1,1))\n",
        "\n",
        "display(W1, b1, W2, b2)"
      ]
    },
    {
      "cell_type": "code",
      "execution_count": 126,
      "metadata": {
        "id": "rJRtIYxMvhgo"
      },
      "outputs": [],
      "source": [
        "#funcion fit y loop de entrenamiento\n",
        "def fit(x, y, learning_rate=0.001, epochs=1000):\n",
        "    \n",
        "    W1 = np.random.random((1,6))\n",
        "    b1 = np.random.random((5,1))\n",
        "\n",
        "    W2 = np.random.random((1,5))\n",
        "    b2 = np.random.random((1,1))\n",
        "\n",
        "    print(\"Initial parameters\")\n",
        "    display(W1, b1, W2, b2)\n",
        "\n",
        "    eps = 1e-3\n",
        "    loss_accum = []\n",
        "\n",
        "    print(\"Training...\")\n",
        "\n",
        "    for i in range(epochs):\n",
        "        \n",
        "        loss_accum.append(np.mean(loss(x, y, W1, b1, W2, b2)))\n",
        "\n",
        "        W1, b1, W2, b2 = numerical_gradient(eps, x, y, W1, b1, W2, b2, learning_rate)\n",
        "        \n",
        "        print(\"Epoch: \", i, \"Parameters: \")\n",
        "        display(W1, b1, W2, b2)\n",
        "\n",
        "    return loss_accum, W1, b1, W2, b2"
      ]
    },
    {
      "cell_type": "code",
      "execution_count": 9,
      "metadata": {
        "id": "IS4sKd_Hvhgo"
      },
      "outputs": [],
      "source": [
        "def predict(x, W1, b1, W2, b2):\n",
        "        return forward(x, W1, b1, W2, b2)"
      ]
    },
    {
      "cell_type": "code",
      "execution_count": 4,
      "metadata": {},
      "outputs": [
        {
          "data": {
            "text/html": [
              "<div>\n",
              "<style scoped>\n",
              "    .dataframe tbody tr th:only-of-type {\n",
              "        vertical-align: middle;\n",
              "    }\n",
              "\n",
              "    .dataframe tbody tr th {\n",
              "        vertical-align: top;\n",
              "    }\n",
              "\n",
              "    .dataframe thead th {\n",
              "        text-align: right;\n",
              "    }\n",
              "</style>\n",
              "<table border=\"1\" class=\"dataframe\">\n",
              "  <thead>\n",
              "    <tr style=\"text-align: right;\">\n",
              "      <th></th>\n",
              "      <th>X1</th>\n",
              "      <th>X2</th>\n",
              "      <th>X3</th>\n",
              "      <th>X4</th>\n",
              "      <th>X5</th>\n",
              "      <th>X6</th>\n",
              "      <th>Y</th>\n",
              "    </tr>\n",
              "  </thead>\n",
              "  <tbody>\n",
              "    <tr>\n",
              "      <th>0</th>\n",
              "      <td>2012.916667</td>\n",
              "      <td>32.0</td>\n",
              "      <td>84.87882</td>\n",
              "      <td>10</td>\n",
              "      <td>24.98298</td>\n",
              "      <td>121.54024</td>\n",
              "      <td>37.9</td>\n",
              "    </tr>\n",
              "    <tr>\n",
              "      <th>1</th>\n",
              "      <td>2012.916667</td>\n",
              "      <td>19.5</td>\n",
              "      <td>306.59470</td>\n",
              "      <td>9</td>\n",
              "      <td>24.98034</td>\n",
              "      <td>121.53951</td>\n",
              "      <td>42.2</td>\n",
              "    </tr>\n",
              "    <tr>\n",
              "      <th>2</th>\n",
              "      <td>2013.583333</td>\n",
              "      <td>13.3</td>\n",
              "      <td>561.98450</td>\n",
              "      <td>5</td>\n",
              "      <td>24.98746</td>\n",
              "      <td>121.54391</td>\n",
              "      <td>47.3</td>\n",
              "    </tr>\n",
              "    <tr>\n",
              "      <th>3</th>\n",
              "      <td>2013.500000</td>\n",
              "      <td>13.3</td>\n",
              "      <td>561.98450</td>\n",
              "      <td>5</td>\n",
              "      <td>24.98746</td>\n",
              "      <td>121.54391</td>\n",
              "      <td>54.8</td>\n",
              "    </tr>\n",
              "    <tr>\n",
              "      <th>4</th>\n",
              "      <td>2012.833333</td>\n",
              "      <td>5.0</td>\n",
              "      <td>390.56840</td>\n",
              "      <td>5</td>\n",
              "      <td>24.97937</td>\n",
              "      <td>121.54245</td>\n",
              "      <td>43.1</td>\n",
              "    </tr>\n",
              "  </tbody>\n",
              "</table>\n",
              "</div>"
            ],
            "text/plain": [
              "            X1    X2         X3  X4        X5         X6     Y\n",
              "0  2012.916667  32.0   84.87882  10  24.98298  121.54024  37.9\n",
              "1  2012.916667  19.5  306.59470   9  24.98034  121.53951  42.2\n",
              "2  2013.583333  13.3  561.98450   5  24.98746  121.54391  47.3\n",
              "3  2013.500000  13.3  561.98450   5  24.98746  121.54391  54.8\n",
              "4  2012.833333   5.0  390.56840   5  24.97937  121.54245  43.1"
            ]
          },
          "metadata": {},
          "output_type": "display_data"
        }
      ],
      "source": [
        "real_estate: pd.DataFrame = pd.read_excel('data/Real estate valuation data set.xlsx')\n",
        "real_estate.drop(['No'], axis=1, inplace=True)\n",
        "\n",
        "short = real_estate.copy()\n",
        "short.columns = short.columns.map(lambda x: x.split(' ')[0])\n",
        "display(short.head())"
      ]
    },
    {
      "cell_type": "code",
      "execution_count": 5,
      "metadata": {},
      "outputs": [
        {
          "data": {
            "text/plain": [
              "((315, 6), (315, 1), (99, 6), (99, 1))"
            ]
          },
          "execution_count": 5,
          "metadata": {},
          "output_type": "execute_result"
        }
      ],
      "source": [
        "X_matrix: np.ndarray = np.array(real_estate.drop(['Y house price of unit area'], axis=1))\n",
        "y_matrix: np.ndarray = np.array(real_estate['Y house price of unit area']).reshape(-1, 1)\n",
        "\n",
        "X_train: np.ndarray = X_matrix[0:315]\n",
        "y_train: np.ndarray = y_matrix[0:315]\n",
        "\n",
        "X_test: np.ndarray = X_matrix[315:]\n",
        "y_test: np.ndarray = y_matrix[315:]\n",
        "\n",
        "X_train.shape, y_train.shape, X_test.shape, y_test.shape"
      ]
    },
    {
      "cell_type": "code",
      "execution_count": 11,
      "metadata": {},
      "outputs": [
        {
          "data": {
            "text/html": [
              "<div>\n",
              "<style scoped>\n",
              "    .dataframe tbody tr th:only-of-type {\n",
              "        vertical-align: middle;\n",
              "    }\n",
              "\n",
              "    .dataframe tbody tr th {\n",
              "        vertical-align: top;\n",
              "    }\n",
              "\n",
              "    .dataframe thead th {\n",
              "        text-align: right;\n",
              "    }\n",
              "</style>\n",
              "<table border=\"1\" class=\"dataframe\">\n",
              "  <thead>\n",
              "    <tr style=\"text-align: right;\">\n",
              "      <th></th>\n",
              "      <th>0</th>\n",
              "      <th>1</th>\n",
              "      <th>2</th>\n",
              "      <th>3</th>\n",
              "      <th>4</th>\n",
              "      <th>5</th>\n",
              "    </tr>\n",
              "  </thead>\n",
              "  <tbody>\n",
              "    <tr>\n",
              "      <th>0</th>\n",
              "      <td>2013.083333</td>\n",
              "      <td>15.6</td>\n",
              "      <td>1756.4110</td>\n",
              "      <td>2.0</td>\n",
              "      <td>24.98320</td>\n",
              "      <td>121.51812</td>\n",
              "    </tr>\n",
              "    <tr>\n",
              "      <th>1</th>\n",
              "      <td>2013.250000</td>\n",
              "      <td>13.3</td>\n",
              "      <td>250.6310</td>\n",
              "      <td>7.0</td>\n",
              "      <td>24.96606</td>\n",
              "      <td>121.54297</td>\n",
              "    </tr>\n",
              "    <tr>\n",
              "      <th>2</th>\n",
              "      <td>2012.750000</td>\n",
              "      <td>15.6</td>\n",
              "      <td>752.7669</td>\n",
              "      <td>2.0</td>\n",
              "      <td>24.97795</td>\n",
              "      <td>121.53451</td>\n",
              "    </tr>\n",
              "    <tr>\n",
              "      <th>3</th>\n",
              "      <td>2013.333333</td>\n",
              "      <td>7.1</td>\n",
              "      <td>379.5575</td>\n",
              "      <td>10.0</td>\n",
              "      <td>24.98343</td>\n",
              "      <td>121.53762</td>\n",
              "    </tr>\n",
              "    <tr>\n",
              "      <th>4</th>\n",
              "      <td>2013.250000</td>\n",
              "      <td>34.6</td>\n",
              "      <td>272.6783</td>\n",
              "      <td>5.0</td>\n",
              "      <td>24.95562</td>\n",
              "      <td>121.53872</td>\n",
              "    </tr>\n",
              "  </tbody>\n",
              "</table>\n",
              "</div>"
            ],
            "text/plain": [
              "             0     1          2     3         4          5\n",
              "0  2013.083333  15.6  1756.4110   2.0  24.98320  121.51812\n",
              "1  2013.250000  13.3   250.6310   7.0  24.96606  121.54297\n",
              "2  2012.750000  15.6   752.7669   2.0  24.97795  121.53451\n",
              "3  2013.333333   7.1   379.5575  10.0  24.98343  121.53762\n",
              "4  2013.250000  34.6   272.6783   5.0  24.95562  121.53872"
            ]
          },
          "execution_count": 11,
          "metadata": {},
          "output_type": "execute_result"
        }
      ],
      "source": [
        "pd.DataFrame(X_test).head()"
      ]
    },
    {
      "cell_type": "code",
      "execution_count": 14,
      "metadata": {},
      "outputs": [
        {
          "data": {
            "text/plain": [
              "array([2.01308333e+03, 1.56000000e+01, 1.75641100e+03, 2.00000000e+00,\n",
              "       2.49832000e+01, 1.21518120e+02])"
            ]
          },
          "execution_count": 14,
          "metadata": {},
          "output_type": "execute_result"
        }
      ],
      "source": [
        "X_test[0]"
      ]
    },
    {
      "cell_type": "code",
      "execution_count": 17,
      "metadata": {},
      "outputs": [
        {
          "data": {
            "text/plain": [
              "array([[3.25136437]])"
            ]
          },
          "execution_count": 17,
          "metadata": {},
          "output_type": "execute_result"
        }
      ],
      "source": [
        "predict(X_test[0], W1, b1, W2, b2)"
      ]
    },
    {
      "cell_type": "code",
      "execution_count": 23,
      "metadata": {},
      "outputs": [
        {
          "data": {
            "text/plain": [
              "array([[289.16843775]])"
            ]
          },
          "execution_count": 23,
          "metadata": {},
          "output_type": "execute_result"
        }
      ],
      "source": [
        "loss(X_test[0], y_test[0], W1, b1, W2, b2)"
      ]
    },
    {
      "cell_type": "code",
      "execution_count": 169,
      "metadata": {},
      "outputs": [
        {
          "name": "stdout",
          "output_type": "stream",
          "text": [
            "Initial parameters\n"
          ]
        },
        {
          "data": {
            "text/plain": [
              "array([[0.7399468 , 0.88583481, 0.70091589, 0.48095884, 0.02366507,\n",
              "        0.47976596]])"
            ]
          },
          "metadata": {},
          "output_type": "display_data"
        },
        {
          "data": {
            "text/plain": [
              "array([[0.53247802],\n",
              "       [0.94523974],\n",
              "       [0.57466671],\n",
              "       [0.5440211 ],\n",
              "       [0.28300546]])"
            ]
          },
          "metadata": {},
          "output_type": "display_data"
        },
        {
          "data": {
            "text/plain": [
              "array([[0.9826376 , 0.29967796, 0.42478612, 0.4687891 , 0.14985547]])"
            ]
          },
          "metadata": {},
          "output_type": "display_data"
        },
        {
          "data": {
            "text/plain": [
              "array([[0.38958733]])"
            ]
          },
          "metadata": {},
          "output_type": "display_data"
        },
        {
          "name": "stdout",
          "output_type": "stream",
          "text": [
            "Training...\n"
          ]
        },
        {
          "ename": "ValueError",
          "evalue": "matmul: Input operand 1 has a mismatch in its core dimension 0, with gufunc signature (n?,k),(k,m?)->(n?,m?) (size 6 is different from 315)",
          "output_type": "error",
          "traceback": [
            "\u001b[0;31m---------------------------------------------------------------------------\u001b[0m",
            "\u001b[0;31mValueError\u001b[0m                                Traceback (most recent call last)",
            "Cell \u001b[0;32mIn[169], line 1\u001b[0m\n\u001b[0;32m----> 1\u001b[0m loss_accum, W1, b1, W2, b2 \u001b[39m=\u001b[39m fit(X_train\u001b[39m.\u001b[39;49mT, y_train\u001b[39m.\u001b[39;49mT, learning_rate\u001b[39m=\u001b[39;49m\u001b[39m0.000001\u001b[39;49m, epochs\u001b[39m=\u001b[39;49m\u001b[39m10\u001b[39;49m)\n",
            "Cell \u001b[0;32mIn[126], line 20\u001b[0m, in \u001b[0;36mfit\u001b[0;34m(x, y, learning_rate, epochs)\u001b[0m\n\u001b[1;32m     16\u001b[0m \u001b[39mprint\u001b[39m(\u001b[39m\"\u001b[39m\u001b[39mTraining...\u001b[39m\u001b[39m\"\u001b[39m)\n\u001b[1;32m     18\u001b[0m \u001b[39mfor\u001b[39;00m i \u001b[39min\u001b[39;00m \u001b[39mrange\u001b[39m(epochs):\n\u001b[0;32m---> 20\u001b[0m     loss_accum\u001b[39m.\u001b[39mappend(np\u001b[39m.\u001b[39mmean(loss(x, y, W1, b1, W2, b2)))\n\u001b[1;32m     22\u001b[0m     W1, b1, W2, b2 \u001b[39m=\u001b[39m numerical_gradient(eps, x, y, W1, b1, W2, b2, learning_rate)\n\u001b[1;32m     24\u001b[0m     \u001b[39mprint\u001b[39m(\u001b[39m\"\u001b[39m\u001b[39mEpoch: \u001b[39m\u001b[39m\"\u001b[39m, i, \u001b[39m\"\u001b[39m\u001b[39mParameters: \u001b[39m\u001b[39m\"\u001b[39m)\n",
            "Cell \u001b[0;32mIn[114], line 2\u001b[0m, in \u001b[0;36mloss\u001b[0;34m(x_i, y_i, W1, b1, W2, b2)\u001b[0m\n\u001b[1;32m      1\u001b[0m \u001b[39mdef\u001b[39;00m \u001b[39mloss\u001b[39m(x_i, y_i, W1, b1, W2, b2):\n\u001b[0;32m----> 2\u001b[0m     \u001b[39mreturn\u001b[39;00m \u001b[39m1\u001b[39m\u001b[39m/\u001b[39m\u001b[39m2\u001b[39m \u001b[39m*\u001b[39m (forward(x_i, W1, b1, W2, b2) \u001b[39m-\u001b[39m y_i)\u001b[39m*\u001b[39m\u001b[39m*\u001b[39m\u001b[39m2\u001b[39m\n",
            "Cell \u001b[0;32mIn[161], line 5\u001b[0m, in \u001b[0;36mforward\u001b[0;34m(x, W1, b1, W2, b2)\u001b[0m\n\u001b[1;32m      4\u001b[0m \u001b[39mdef\u001b[39;00m \u001b[39mforward\u001b[39m(x, W1, b1, W2, b2):\n\u001b[0;32m----> 5\u001b[0m     z1 \u001b[39m=\u001b[39m x \u001b[39m@\u001b[39;49m W1\u001b[39m.\u001b[39;49mT \u001b[39m+\u001b[39m b1\u001b[39m.\u001b[39mT\n\u001b[1;32m      6\u001b[0m     a1 \u001b[39m=\u001b[39m sigmoid(z1)\n\u001b[1;32m      7\u001b[0m     z2 \u001b[39m=\u001b[39m a1 \u001b[39m@\u001b[39m W2\u001b[39m.\u001b[39mT \u001b[39m+\u001b[39m b2\u001b[39m.\u001b[39mT\n",
            "\u001b[0;31mValueError\u001b[0m: matmul: Input operand 1 has a mismatch in its core dimension 0, with gufunc signature (n?,k),(k,m?)->(n?,m?) (size 6 is different from 315)"
          ]
        }
      ],
      "source": [
        "loss_accum, W1, b1, W2, b2 = fit(X_train.T, y_train.T, learning_rate=0.000001, epochs=10)"
      ]
    },
    {
      "cell_type": "code",
      "execution_count": 167,
      "metadata": {},
      "outputs": [
        {
          "data": {
            "text/plain": [
              "array([[4.94078313, 5.11400279, 4.65665373, 4.67870076, 5.03065252,\n",
              "        4.52728996]])"
            ]
          },
          "metadata": {},
          "output_type": "display_data"
        },
        {
          "data": {
            "text/plain": [
              "array([[5.11162625],\n",
              "       [5.39799118],\n",
              "       [4.58907381],\n",
              "       [5.11478327],\n",
              "       [4.88005404]])"
            ]
          },
          "metadata": {},
          "output_type": "display_data"
        },
        {
          "data": {
            "text/plain": [
              "array([[5.34321917, 4.85980929, 4.96356227, 5.17729779, 4.53707707]])"
            ]
          },
          "metadata": {},
          "output_type": "display_data"
        },
        {
          "data": {
            "text/plain": [
              "array([[4.69885911]])"
            ]
          },
          "metadata": {},
          "output_type": "display_data"
        }
      ],
      "source": [
        "display(W1, b1, W2, b2)"
      ]
    },
    {
      "cell_type": "code",
      "execution_count": 146,
      "metadata": {},
      "outputs": [
        {
          "data": {
            "text/plain": [
              "array([[29.57982471]])"
            ]
          },
          "execution_count": 146,
          "metadata": {},
          "output_type": "execute_result"
        }
      ],
      "source": [
        "predict(X_test[0], W1, b1, W2, b2)"
      ]
    },
    {
      "cell_type": "code",
      "execution_count": 168,
      "metadata": {},
      "outputs": [
        {
          "data": {
            "text/plain": [
              "(array([2.01308333e+03, 1.56000000e+01, 1.75641100e+03, 2.00000000e+00,\n",
              "        2.49832000e+01, 1.21518120e+02]),\n",
              " array([27.3]))"
            ]
          },
          "execution_count": 168,
          "metadata": {},
          "output_type": "execute_result"
        }
      ],
      "source": [
        "X_test[0], y_test[0]"
      ]
    },
    {
      "cell_type": "code",
      "execution_count": 147,
      "metadata": {},
      "outputs": [
        {
          "data": {
            "text/plain": [
              "[<matplotlib.lines.Line2D at 0x7f8de1266fa0>]"
            ]
          },
          "execution_count": 147,
          "metadata": {},
          "output_type": "execute_result"
        },
        {
          "data": {
            "image/png": "[encoded data removed]",
            "text/plain": [
              "<Figure size 640x480 with 1 Axes>"
            ]
          },
          "metadata": {},
          "output_type": "display_data"
        }
      ],
      "source": [
        "plt.plot(loss_accum)"
      ]
    },
    {
      "cell_type": "code",
      "execution_count": 47,
      "metadata": {},
      "outputs": [
        {
          "data": {
            "text/plain": [
              "array([[nan]])"
            ]
          },
          "execution_count": 47,
          "metadata": {},
          "output_type": "execute_result"
        }
      ],
      "source": [
        "predict(X_test[0], W1, b1, W2, b2)"
      ]
    },
    {
      "cell_type": "code",
      "execution_count": 159,
      "metadata": {},
      "outputs": [
        {
          "data": {
            "text/plain": [
              "((99, 6), (1, 6), (5, 1), (1, 5), (1, 1))"
            ]
          },
          "execution_count": 159,
          "metadata": {},
          "output_type": "execute_result"
        }
      ],
      "source": [
        "X_test.shape, W1.shape, b1.shape, W2.shape, b2.shape"
      ]
    },
    {
      "cell_type": "code",
      "execution_count": null,
      "metadata": {},
      "outputs": [],
      "source": [
        "X_test @ W1.T + b1.T"
      ]
    },
    {
      "cell_type": "code",
      "execution_count": 162,
      "metadata": {},
      "outputs": [
        {
          "data": {
            "text/plain": [
              "array([[29.57982471],\n",
              "       [29.57982471],\n",
              "       [29.57982471],\n",
              "       [29.57982471],\n",
              "       [29.57982471],\n",
              "       [29.57982471],\n",
              "       [29.57982471],\n",
              "       [29.57982471],\n",
              "       [29.57982471],\n",
              "       [29.57982471],\n",
              "       [29.57982471],\n",
              "       [29.57982471],\n",
              "       [29.57982471],\n",
              "       [29.57982471],\n",
              "       [29.57982471],\n",
              "       [29.57982471],\n",
              "       [29.57982471],\n",
              "       [29.57982471],\n",
              "       [29.57982471],\n",
              "       [29.57982471],\n",
              "       [29.57982471],\n",
              "       [29.57982471],\n",
              "       [29.57982471],\n",
              "       [29.57982471],\n",
              "       [29.57982471],\n",
              "       [29.57982471],\n",
              "       [29.57982471],\n",
              "       [29.57982471],\n",
              "       [29.57982471],\n",
              "       [29.57982471],\n",
              "       [29.57982471],\n",
              "       [29.57982471],\n",
              "       [29.57982471],\n",
              "       [29.57982471],\n",
              "       [29.57982471],\n",
              "       [29.57982471],\n",
              "       [29.57982471],\n",
              "       [29.57982471],\n",
              "       [29.57982471],\n",
              "       [29.57982471],\n",
              "       [29.57982471],\n",
              "       [29.57982471],\n",
              "       [29.57982471],\n",
              "       [29.57982471],\n",
              "       [29.57982471],\n",
              "       [29.57982471],\n",
              "       [29.57982471],\n",
              "       [29.57982471],\n",
              "       [29.57982471],\n",
              "       [29.57982471],\n",
              "       [29.57982471],\n",
              "       [29.57982471],\n",
              "       [29.57982471],\n",
              "       [29.57982471],\n",
              "       [29.57982471],\n",
              "       [29.57982471],\n",
              "       [29.57982471],\n",
              "       [29.57982471],\n",
              "       [29.57982471],\n",
              "       [29.57982471],\n",
              "       [29.57982471],\n",
              "       [29.57982471],\n",
              "       [29.57982471],\n",
              "       [29.57982471],\n",
              "       [29.57982471],\n",
              "       [29.57982471],\n",
              "       [29.57982471],\n",
              "       [29.57982471],\n",
              "       [29.57982471],\n",
              "       [29.57982471],\n",
              "       [29.57982471],\n",
              "       [29.57982471],\n",
              "       [29.57982471],\n",
              "       [29.57982471],\n",
              "       [29.57982471],\n",
              "       [29.57982471],\n",
              "       [29.57982471],\n",
              "       [29.57982471],\n",
              "       [29.57982471],\n",
              "       [29.57982471],\n",
              "       [29.57982471],\n",
              "       [29.57982471],\n",
              "       [29.57982471],\n",
              "       [29.57982471],\n",
              "       [29.57982471],\n",
              "       [29.57982471],\n",
              "       [29.57982471],\n",
              "       [29.57982471],\n",
              "       [29.57982471],\n",
              "       [29.57982471],\n",
              "       [29.57982471],\n",
              "       [29.57982471],\n",
              "       [29.57982471],\n",
              "       [29.57982471],\n",
              "       [29.57982471],\n",
              "       [29.57982471],\n",
              "       [29.57982471],\n",
              "       [29.57982471],\n",
              "       [29.57982471]])"
            ]
          },
          "execution_count": 162,
          "metadata": {},
          "output_type": "execute_result"
        }
      ],
      "source": [
        "# Plot accuracy\n",
        "\n",
        "predict(X_test, W1, b1, W2, b2)"
      ]
    },
    {
      "cell_type": "code",
      "execution_count": null,
      "metadata": {},
      "outputs": [],
      "source": []
    }
  ],
  "metadata": {
    "colab": {
      "provenance": []
    },
    "kernelspec": {
      "display_name": "coding",
      "language": "python",
      "name": "python3"
    },
    "language_info": {
      "codemirror_mode": {
        "name": "ipython",
        "version": 3
      },
      "file_extension": ".py",
      "mimetype": "text/x-python",
      "name": "python",
      "nbconvert_exporter": "python",
      "pygments_lexer": "ipython3",
      "version": "3.8.12"
    },
    "orig_nbformat": 4
  },
  "nbformat": 4,
  "nbformat_minor": 0
}
