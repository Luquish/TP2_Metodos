{
 "cells": [
  {
   "cell_type": "code",
   "execution_count": 26,
   "metadata": {},
   "outputs": [],
   "source": [
    "import numpy as np\n",
    "import pandas as pd\n",
    "import matplotlib.pyplot as plt\n",
    "from tqdm import tqdm"
   ]
  },
  {
   "cell_type": "code",
   "execution_count": 3,
   "metadata": {},
   "outputs": [
    {
     "data": {
      "text/html": [
       "<div>\n",
       "<style scoped>\n",
       "    .dataframe tbody tr th:only-of-type {\n",
       "        vertical-align: middle;\n",
       "    }\n",
       "\n",
       "    .dataframe tbody tr th {\n",
       "        vertical-align: top;\n",
       "    }\n",
       "\n",
       "    .dataframe thead th {\n",
       "        text-align: right;\n",
       "    }\n",
       "</style>\n",
       "<table border=\"1\" class=\"dataframe\">\n",
       "  <thead>\n",
       "    <tr style=\"text-align: right;\">\n",
       "      <th></th>\n",
       "      <th>X1</th>\n",
       "      <th>X2</th>\n",
       "      <th>X3</th>\n",
       "      <th>X4</th>\n",
       "      <th>X5</th>\n",
       "      <th>X6</th>\n",
       "      <th>Y</th>\n",
       "    </tr>\n",
       "  </thead>\n",
       "  <tbody>\n",
       "    <tr>\n",
       "      <th>0</th>\n",
       "      <td>2012.916667</td>\n",
       "      <td>32.0</td>\n",
       "      <td>84.87882</td>\n",
       "      <td>10</td>\n",
       "      <td>24.98298</td>\n",
       "      <td>121.54024</td>\n",
       "      <td>37.9</td>\n",
       "    </tr>\n",
       "    <tr>\n",
       "      <th>1</th>\n",
       "      <td>2012.916667</td>\n",
       "      <td>19.5</td>\n",
       "      <td>306.59470</td>\n",
       "      <td>9</td>\n",
       "      <td>24.98034</td>\n",
       "      <td>121.53951</td>\n",
       "      <td>42.2</td>\n",
       "    </tr>\n",
       "    <tr>\n",
       "      <th>2</th>\n",
       "      <td>2013.583333</td>\n",
       "      <td>13.3</td>\n",
       "      <td>561.98450</td>\n",
       "      <td>5</td>\n",
       "      <td>24.98746</td>\n",
       "      <td>121.54391</td>\n",
       "      <td>47.3</td>\n",
       "    </tr>\n",
       "    <tr>\n",
       "      <th>3</th>\n",
       "      <td>2013.500000</td>\n",
       "      <td>13.3</td>\n",
       "      <td>561.98450</td>\n",
       "      <td>5</td>\n",
       "      <td>24.98746</td>\n",
       "      <td>121.54391</td>\n",
       "      <td>54.8</td>\n",
       "    </tr>\n",
       "    <tr>\n",
       "      <th>4</th>\n",
       "      <td>2012.833333</td>\n",
       "      <td>5.0</td>\n",
       "      <td>390.56840</td>\n",
       "      <td>5</td>\n",
       "      <td>24.97937</td>\n",
       "      <td>121.54245</td>\n",
       "      <td>43.1</td>\n",
       "    </tr>\n",
       "  </tbody>\n",
       "</table>\n",
       "</div>"
      ],
      "text/plain": [
       "            X1    X2         X3  X4        X5         X6     Y\n",
       "0  2012.916667  32.0   84.87882  10  24.98298  121.54024  37.9\n",
       "1  2012.916667  19.5  306.59470   9  24.98034  121.53951  42.2\n",
       "2  2013.583333  13.3  561.98450   5  24.98746  121.54391  47.3\n",
       "3  2013.500000  13.3  561.98450   5  24.98746  121.54391  54.8\n",
       "4  2012.833333   5.0  390.56840   5  24.97937  121.54245  43.1"
      ]
     },
     "metadata": {},
     "output_type": "display_data"
    }
   ],
   "source": [
    "real_estate: pd.DataFrame = pd.read_excel('data/Real estate valuation data set.xlsx')\n",
    "real_estate.drop(['No'], axis=1, inplace=True)\n",
    "\n",
    "short = real_estate.copy()\n",
    "short.columns = short.columns.map(lambda x: x.split(' ')[0])\n",
    "display(short.head())"
   ]
  },
  {
   "cell_type": "code",
   "execution_count": 4,
   "metadata": {},
   "outputs": [
    {
     "data": {
      "text/plain": [
       "((315, 6), (315, 1), (99, 6), (99, 1))"
      ]
     },
     "execution_count": 4,
     "metadata": {},
     "output_type": "execute_result"
    }
   ],
   "source": [
    "X_matrix: np.ndarray = np.array(real_estate.drop(['Y house price of unit area'], axis=1))\n",
    "y_matrix: np.ndarray = np.array(real_estate['Y house price of unit area']).reshape(-1, 1)\n",
    "\n",
    "X_train: np.ndarray = X_matrix[0:315]\n",
    "y_train: np.ndarray = y_matrix[0:315]\n",
    "\n",
    "X_test: np.ndarray = X_matrix[315:]\n",
    "y_test: np.ndarray = y_matrix[315:]\n",
    "\n",
    "X_train.shape, y_train.shape, X_test.shape, y_test.shape"
   ]
  },
  {
   "cell_type": "code",
   "execution_count": 113,
   "metadata": {},
   "outputs": [],
   "source": [
    "class NeuralNet:\n",
    "    def __init__(self, X_train, y_train):\n",
    "\n",
    "        self.W1 = np.random.random((5, 6))\n",
    "        self.b1 = np.random.random((5, 1))\n",
    "        self.W2 = np.random.random((1, 5))\n",
    "        self.b2 = np.random.random((1, 1))\n",
    "\n",
    "        self.loss_acum = []\n",
    "\n",
    "    def sigmoid(self, x):\n",
    "        return 1 / (1 + np.exp(-x))\n",
    "\n",
    "    def forward(self, x):\n",
    "        self.z1 = self.W1 @ x.T + self.b1\n",
    "        self.a1 = self.sigmoid(self.z1)\n",
    "        self.z2 = self.W2 @ self.a1 + self.b2\n",
    "        self.a2 = self.z2\n",
    "        return self.a2.reshape(-1, 1)\n",
    "    \n",
    "    def numerical_gradient(self, x, y, eps):\n",
    "        \"\"\"\n",
    "        Una estrategia para calcular estas derivadas parciales, consiste en calcular el promedio\n",
    "        de los cocientes incrementales a derecha e izquierda. Para obtener la siguiente aproximación, para\n",
    "        cada parámetro de la red calculamos:\n",
    "\n",
    "        $$\n",
    "        \\frac{\\partial L}{\\partial p} \\sim \\frac{L(\\theta_t, p + \\epsilon) - L(\\theta_t, p - \\epsilon)}{2 \\epsilon}\n",
    "        $$\n",
    "\n",
    "        donde usamos $p$ de forma genérica para referirnos a cada elemento $w^1_{i,j}$, $b^1_{j}$, $w^2_{i,j}$, $b^2_{j}$\n",
    "        \"\"\"\n",
    "\n",
    "        dW1 = np.zeros_like(self.W1)\n",
    "        db1 = np.zeros_like(self.b1)\n",
    "        dW2 = np.zeros_like(self.W2)\n",
    "        db2 = np.zeros_like(self.b2)\n",
    "\n",
    "        for i in range(self.W1.shape[0]):\n",
    "            for j in range(self.W1.shape[1]):\n",
    "                self.W1[i, j] += eps\n",
    "                loss1 = self.loss(x, y)\n",
    "                self.W1[i, j] -= 2 * eps\n",
    "                loss2 = self.loss(x, y)\n",
    "                dW1[i, j] = (loss1 - loss2) / (2 * eps)\n",
    "                self.W1[i, j] += eps\n",
    "        \n",
    "        for i in range(self.b1.shape[0]):\n",
    "            for j in range(self.b1.shape[1]):\n",
    "                self.b1[i, j] += eps\n",
    "                loss1 = self.loss(x, y)\n",
    "                self.b1[i, j] -= 2 * eps\n",
    "                loss2 = self.loss(x, y)\n",
    "                db1[i, j] = (loss1 - loss2) / (2 * eps)\n",
    "                self.b1[i, j] += eps\n",
    "\n",
    "        for i in range(self.W2.shape[0]):\n",
    "            for j in range(self.W2.shape[1]):\n",
    "                self.W2[i, j] += eps\n",
    "                loss1 = self.loss(x, y)\n",
    "                self.W2[i, j] -= 2 * eps\n",
    "                loss2 = self.loss(x, y)\n",
    "                dW2[i, j] = (loss1 - loss2) / (2 * eps)\n",
    "                self.W2[i, j] += eps\n",
    "\n",
    "        for i in range(self.b2.shape[0]):\n",
    "            for j in range(self.b2.shape[1]):\n",
    "                self.b2[i, j] += eps\n",
    "                loss1 = self.loss(x, y)\n",
    "                self.b2[i, j] -= 2 * eps\n",
    "                loss2 = self.loss(x, y)\n",
    "                db2[i, j] = (loss1 - loss2) / (2 * eps)\n",
    "                self.b2[i, j] += eps\n",
    "\n",
    "        return dW1, db1, dW2, db2   \n",
    "        \n",
    "    def update_weights(self, lr, dW1, db1, dW2, db2):\n",
    "        self.W1 -= lr * dW1\n",
    "        self.b1 -= lr * db1\n",
    "        self.W2 -= lr * dW2\n",
    "        self.b2 -= lr * db2\n",
    "\n",
    "    def loss(self, x, y):\n",
    "        l = np.power((self.forward(x) - y), 2).mean(axis=0) / 2\n",
    "        # print(l)\n",
    "        return l\n",
    "\n",
    "    def fit(self, x, y, lr=0.01, epochs=1000):\n",
    "\n",
    "        eps = 1e-3\n",
    "\n",
    "        for _ in tqdm(range(epochs)):\n",
    "            #print(self.W1)\n",
    "            self.loss_acum.append(self.loss(x, y))\n",
    "            \n",
    "            dW1, db1, dW2, db2 = self.numerical_gradient(x, y, eps)\n",
    "            #print(dW1)\n",
    "\n",
    "            self.update_weights(lr, dW1, db1, dW2, db2)\n",
    "            #print(self.W1)\n",
    "\n",
    "        return self.loss_acum\n",
    "\n",
    "    def predict(self, x):\n",
    "        return self.forward(x)\n",
    "\n",
    "    def get_weights(self):\n",
    "        return self.W1, self.b1, self.W2, self.b2\n",
    "\n",
    "    def get_loss(self):\n",
    "        return self.loss_acum\n"
   ]
  },
  {
   "cell_type": "code",
   "execution_count": 129,
   "metadata": {},
   "outputs": [
    {
     "data": {
      "text/plain": [
       "(array([[0.95986787, 0.65540639, 0.07511078, 0.91166764, 0.80851491,\n",
       "         0.20141253],\n",
       "        [0.09305108, 0.4236008 , 0.68475187, 0.67181882, 0.90670023,\n",
       "         0.81544744],\n",
       "        [0.3266915 , 0.77369867, 0.75371383, 0.90798028, 0.38379565,\n",
       "         0.51373289],\n",
       "        [0.14389575, 0.49843954, 0.46406406, 0.93451379, 0.82528194,\n",
       "         0.23252472],\n",
       "        [0.80943529, 0.87867654, 0.20218089, 0.3158811 , 0.2753296 ,\n",
       "         0.6477512 ]]),\n",
       " array([[0.51680541],\n",
       "        [0.73692023],\n",
       "        [0.65073908],\n",
       "        [0.12606735],\n",
       "        [0.5093953 ]]),\n",
       " array([[0.9849011 , 0.19924653, 0.00972613, 0.025776  , 0.71752232]]),\n",
       " array([[0.16209458]]))"
      ]
     },
     "execution_count": 129,
     "metadata": {},
     "output_type": "execute_result"
    }
   ],
   "source": [
    "nn = NeuralNet(X_train, y_train)\n",
    "nn.get_weights()"
   ]
  },
  {
   "cell_type": "code",
   "execution_count": 130,
   "metadata": {},
   "outputs": [
    {
     "name": "stderr",
     "output_type": "stream",
     "text": [
      "  0%|          | 0/1000 [00:00<?, ?it/s]"
     ]
    },
    {
     "name": "stderr",
     "output_type": "stream",
     "text": [
      "100%|██████████| 1000/1000 [00:03<00:00, 251.45it/s]\n"
     ]
    },
    {
     "data": {
      "text/plain": [
       "(array([[0.95986787, 0.65540639, 0.07511078, 0.91166764, 0.80851491,\n",
       "         0.20141253],\n",
       "        [0.09305108, 0.4236008 , 0.68475187, 0.67181882, 0.90670023,\n",
       "         0.81544744],\n",
       "        [0.3266915 , 0.77369867, 0.75371383, 0.90798028, 0.38379565,\n",
       "         0.51373289],\n",
       "        [0.14389575, 0.49843954, 0.46406406, 0.93451379, 0.82528194,\n",
       "         0.23252472],\n",
       "        [0.80943529, 0.87867654, 0.20218089, 0.3158811 , 0.2753296 ,\n",
       "         0.6477512 ]]),\n",
       " array([[0.51680541],\n",
       "        [0.73692023],\n",
       "        [0.65073908],\n",
       "        [0.12606735],\n",
       "        [0.5093953 ]]),\n",
       " array([[6.97194754, 6.18629297, 5.99677257, 6.01282244, 6.70456875]]),\n",
       " array([[6.14914102]]))"
      ]
     },
     "execution_count": 130,
     "metadata": {},
     "output_type": "execute_result"
    }
   ],
   "source": [
    "loss = nn.fit(X_train, y_train, lr=0.001, epochs=1000)\n",
    "nn.get_weights()"
   ]
  },
  {
   "cell_type": "code",
   "execution_count": 131,
   "metadata": {},
   "outputs": [
    {
     "data": {
      "text/plain": [
       "array([27.3])"
      ]
     },
     "execution_count": 131,
     "metadata": {},
     "output_type": "execute_result"
    }
   ],
   "source": [
    "y_test[0]"
   ]
  },
  {
   "cell_type": "code",
   "execution_count": 132,
   "metadata": {},
   "outputs": [
    {
     "data": {
      "text/plain": [
       "array([[38.02154527]])"
      ]
     },
     "execution_count": 132,
     "metadata": {},
     "output_type": "execute_result"
    }
   ],
   "source": [
    "nn.predict(X_test[0].reshape(1, -1))"
   ]
  },
  {
   "cell_type": "code",
   "execution_count": 133,
   "metadata": {},
   "outputs": [
    {
     "data": {
      "text/plain": [
       "[<matplotlib.lines.Line2D at 0x7f7ec0777550>]"
      ]
     },
     "execution_count": 133,
     "metadata": {},
     "output_type": "execute_result"
    },
    {
     "data": {
      "image/png": "[encoded data removed]",
      "text/plain": [
       "<Figure size 640x480 with 1 Axes>"
      ]
     },
     "metadata": {},
     "output_type": "display_data"
    }
   ],
   "source": [
    "plt.plot(loss)"
   ]
  },
  {
   "cell_type": "code",
   "execution_count": 134,
   "metadata": {},
   "outputs": [
    {
     "data": {
      "text/plain": [
       "array([154.30122841])"
      ]
     },
     "execution_count": 134,
     "metadata": {},
     "output_type": "execute_result"
    }
   ],
   "source": [
    "# Error cuadrático medio\n",
    "\n",
    "def mse(y_true, y_pred):\n",
    "    return np.square(y_true - y_pred).mean(axis=0)\n",
    "\n",
    "mse(y_test, nn.predict(X_test))"
   ]
  },
  {
   "cell_type": "code",
   "execution_count": null,
   "metadata": {},
   "outputs": [],
   "source": []
  }
 ],
 "metadata": {
  "kernelspec": {
   "display_name": "coding",
   "language": "python",
   "name": "python3"
  },
  "language_info": {
   "codemirror_mode": {
    "name": "ipython",
    "version": 3
   },
   "file_extension": ".py",
   "mimetype": "text/x-python",
   "name": "python",
   "nbconvert_exporter": "python",
   "pygments_lexer": "ipython3",
   "version": "3.8.12"
  },
  "orig_nbformat": 4
 },
 "nbformat": 4,
 "nbformat_minor": 2
}
