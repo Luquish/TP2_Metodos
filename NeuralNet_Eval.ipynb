{
 "cells": [
  {
   "cell_type": "code",
   "execution_count": 26,
   "metadata": {},
   "outputs": [],
   "source": [
    "import numpy as np\n",
    "import pandas as pd\n",
    "import matplotlib.pyplot as plt\n",
    "from tqdm import tqdm"
   ]
  },
  {
   "cell_type": "code",
   "execution_count": 3,
   "metadata": {},
   "outputs": [
    {
     "data": {
      "text/html": [
       "<div>\n",
       "<style scoped>\n",
       "    .dataframe tbody tr th:only-of-type {\n",
       "        vertical-align: middle;\n",
       "    }\n",
       "\n",
       "    .dataframe tbody tr th {\n",
       "        vertical-align: top;\n",
       "    }\n",
       "\n",
       "    .dataframe thead th {\n",
       "        text-align: right;\n",
       "    }\n",
       "</style>\n",
       "<table border=\"1\" class=\"dataframe\">\n",
       "  <thead>\n",
       "    <tr style=\"text-align: right;\">\n",
       "      <th></th>\n",
       "      <th>X1</th>\n",
       "      <th>X2</th>\n",
       "      <th>X3</th>\n",
       "      <th>X4</th>\n",
       "      <th>X5</th>\n",
       "      <th>X6</th>\n",
       "      <th>Y</th>\n",
       "    </tr>\n",
       "  </thead>\n",
       "  <tbody>\n",
       "    <tr>\n",
       "      <th>0</th>\n",
       "      <td>2012.916667</td>\n",
       "      <td>32.0</td>\n",
       "      <td>84.87882</td>\n",
       "      <td>10</td>\n",
       "      <td>24.98298</td>\n",
       "      <td>121.54024</td>\n",
       "      <td>37.9</td>\n",
       "    </tr>\n",
       "    <tr>\n",
       "      <th>1</th>\n",
       "      <td>2012.916667</td>\n",
       "      <td>19.5</td>\n",
       "      <td>306.59470</td>\n",
       "      <td>9</td>\n",
       "      <td>24.98034</td>\n",
       "      <td>121.53951</td>\n",
       "      <td>42.2</td>\n",
       "    </tr>\n",
       "    <tr>\n",
       "      <th>2</th>\n",
       "      <td>2013.583333</td>\n",
       "      <td>13.3</td>\n",
       "      <td>561.98450</td>\n",
       "      <td>5</td>\n",
       "      <td>24.98746</td>\n",
       "      <td>121.54391</td>\n",
       "      <td>47.3</td>\n",
       "    </tr>\n",
       "    <tr>\n",
       "      <th>3</th>\n",
       "      <td>2013.500000</td>\n",
       "      <td>13.3</td>\n",
       "      <td>561.98450</td>\n",
       "      <td>5</td>\n",
       "      <td>24.98746</td>\n",
       "      <td>121.54391</td>\n",
       "      <td>54.8</td>\n",
       "    </tr>\n",
       "    <tr>\n",
       "      <th>4</th>\n",
       "      <td>2012.833333</td>\n",
       "      <td>5.0</td>\n",
       "      <td>390.56840</td>\n",
       "      <td>5</td>\n",
       "      <td>24.97937</td>\n",
       "      <td>121.54245</td>\n",
       "      <td>43.1</td>\n",
       "    </tr>\n",
       "  </tbody>\n",
       "</table>\n",
       "</div>"
      ],
      "text/plain": [
       "            X1    X2         X3  X4        X5         X6     Y\n",
       "0  2012.916667  32.0   84.87882  10  24.98298  121.54024  37.9\n",
       "1  2012.916667  19.5  306.59470   9  24.98034  121.53951  42.2\n",
       "2  2013.583333  13.3  561.98450   5  24.98746  121.54391  47.3\n",
       "3  2013.500000  13.3  561.98450   5  24.98746  121.54391  54.8\n",
       "4  2012.833333   5.0  390.56840   5  24.97937  121.54245  43.1"
      ]
     },
     "metadata": {},
     "output_type": "display_data"
    }
   ],
   "source": [
    "real_estate: pd.DataFrame = pd.read_excel('data/Real estate valuation data set.xlsx')\n",
    "real_estate.drop(['No'], axis=1, inplace=True)\n",
    "\n",
    "short = real_estate.copy()\n",
    "short.columns = short.columns.map(lambda x: x.split(' ')[0])\n",
    "display(short.head())"
   ]
  },
  {
   "cell_type": "code",
   "execution_count": 4,
   "metadata": {},
   "outputs": [
    {
     "data": {
      "text/plain": [
       "((315, 6), (315, 1), (99, 6), (99, 1))"
      ]
     },
     "execution_count": 4,
     "metadata": {},
     "output_type": "execute_result"
    }
   ],
   "source": [
    "X_matrix: np.ndarray = np.array(real_estate.drop(['Y house price of unit area'], axis=1))\n",
    "y_matrix: np.ndarray = np.array(real_estate['Y house price of unit area']).reshape(-1, 1)\n",
    "\n",
    "X_train: np.ndarray = X_matrix[0:315]\n",
    "y_train: np.ndarray = y_matrix[0:315]\n",
    "\n",
    "X_test: np.ndarray = X_matrix[315:]\n",
    "y_test: np.ndarray = y_matrix[315:]\n",
    "\n",
    "X_train.shape, y_train.shape, X_test.shape, y_test.shape"
   ]
  },
  {
   "cell_type": "code",
   "execution_count": 38,
   "metadata": {},
   "outputs": [],
   "source": [
    "class NeuralNet:\n",
    "    def __init__(self, X_train, y_train):\n",
    "\n",
    "        self.W1 = np.random.random((5, 6))\n",
    "        self.b1 = np.random.random((5, 1))\n",
    "        self.W2 = np.random.random((1, 5))\n",
    "        self.b2 = np.random.random((1, 1))\n",
    "\n",
    "        self.loss_acum = []\n",
    "\n",
    "    def sigmoid(self, x):\n",
    "        return 1 / (1 + np.exp(-x))\n",
    "\n",
    "    def forward(self, x):\n",
    "        self.z1 = self.W1 @ x.T + self.b1\n",
    "        self.a1 = self.sigmoid(self.z1)\n",
    "        self.z2 = self.W2 @ self.a1 + self.b2\n",
    "        return self.z2\n",
    "    \n",
    "    def numerical_gradient(self, x, y, eps):\n",
    "        \"\"\"\n",
    "        Una estrategia para calcular estas derivadas parciales, consiste en calcular el promedio\n",
    "        de los cocientes incrementales a derecha e izquierda. Para obtener la siguiente aproximación, para\n",
    "        cada parámetro de la red calculamos:\n",
    "\n",
    "        $$\n",
    "        \\frac{\\partial L}{\\partial p} \\sim \\frac{L(\\theta_t, p + \\epsilon) - L(\\theta_t, p - \\epsilon)}{2 \\epsilon}\n",
    "        $$\n",
    "\n",
    "        donde usamos $p$ de forma genérica para referirnos a cada elemento $w^1_{i,j}$, $b^1_{j}$, $w^2_{i,j}$, $b^2_{j}$\n",
    "        \"\"\"\n",
    "\n",
    "        dW1 = np.zeros_like(self.W1)\n",
    "        db1 = np.zeros_like(self.b1)\n",
    "        dW2 = np.zeros_like(self.W2)\n",
    "        db2 = np.zeros_like(self.b2)\n",
    "\n",
    "        for i in range(self.W1.shape[0]):\n",
    "            for j in range(self.W1.shape[1]):\n",
    "                self.W1[i, j] += eps\n",
    "                loss1 = self.loss(x, y)\n",
    "                self.W1[i, j] -= 2 * eps\n",
    "                loss2 = self.loss(x, y)\n",
    "                print(loss1, loss2, (loss1 - loss2) / (2 * eps))\n",
    "                dW1[i, j] = (loss1 - loss2) / (2 * eps)\n",
    "                self.W1[i, j] += eps\n",
    "        \n",
    "        for i in range(self.b1.shape[0]):\n",
    "            for j in range(self.b1.shape[1]):\n",
    "                self.b1[i, j] += eps\n",
    "                loss1 = self.loss(x, y)\n",
    "                self.b1[i, j] -= 2 * eps\n",
    "                loss2 = self.loss(x, y)\n",
    "                db1[i, j] = (loss1 - loss2) / (2 * eps)\n",
    "                self.b1[i, j] += eps\n",
    "\n",
    "        for i in range(self.W2.shape[0]):\n",
    "            for j in range(self.W2.shape[1]):\n",
    "                self.W2[i, j] += eps\n",
    "                loss1 = self.loss(x, y)\n",
    "                self.W2[i, j] -= 2 * eps\n",
    "                loss2 = self.loss(x, y)\n",
    "                dW2[i, j] = (loss1 - loss2) / (2 * eps)\n",
    "                self.W2[i, j] += eps\n",
    "\n",
    "        for i in range(self.b2.shape[0]):\n",
    "            for j in range(self.b2.shape[1]):\n",
    "                self.b2[i, j] += eps\n",
    "                loss1 = self.loss(x, y)\n",
    "                self.b2[i, j] -= 2 * eps\n",
    "                loss2 = self.loss(x, y)\n",
    "                db2[i, j] = (loss1 - loss2) / (2 * eps)\n",
    "                self.b2[i, j] += eps\n",
    "\n",
    "        print(dW1)\n",
    "        return dW1, db1, dW2, db2   \n",
    "        \n",
    "    def update_weights(self, lr, dW1, db1, dW2, db2):\n",
    "        self.W1 -= lr * dW1\n",
    "        self.b1 -= lr * db1\n",
    "        self.W2 -= lr * dW2\n",
    "        self.b2 -= lr * db2\n",
    "\n",
    "    def loss(self, x, y):\n",
    "        return np.power((self.forward(x) - y), 2) / 2\n",
    "\n",
    "    def fit(self, x, y, lr=0.01, epochs=1000):\n",
    "\n",
    "        eps = 1e-3\n",
    "\n",
    "        for _ in tqdm(range(epochs)):\n",
    "            #print(self.W1)\n",
    "            self.loss_acum.append(self.loss(x, y))\n",
    "            \n",
    "            dW1, db1, dW2, db2 = self.numerical_gradient(x, y, eps)\n",
    "            #print(dW1)\n",
    "\n",
    "            self.update_weights(lr, dW1, db1, dW2, db2)\n",
    "            #print(self.W1)\n",
    "\n",
    "\n",
    "        return self.loss_acum\n",
    "\n",
    "    def predict(self, x):\n",
    "        return self.forward(x)\n",
    "\n",
    "    def get_weights(self):\n",
    "        return self.W1, self.b1, self.W2, self.b2\n",
    "\n",
    "    def get_loss(self):\n",
    "        return self.loss_acum\n"
   ]
  },
  {
   "cell_type": "code",
   "execution_count": 39,
   "metadata": {},
   "outputs": [
    {
     "name": "stderr",
     "output_type": "stream",
     "text": [
      "  0%|          | 0/100 [00:00<?, ?it/s]"
     ]
    },
    {
     "name": "stdout",
     "output_type": "stream",
     "text": [
      "[[ 621.30736896  621.30736896  621.30736896 ...  621.30736896\n",
      "   621.30736896  621.30736896]\n",
      " [ 782.13055507  782.13055507  782.13055507 ...  782.13055507\n",
      "   782.13055507  782.13055507]\n",
      " [ 996.84433395  996.84433395  996.84433395 ...  996.84433395\n",
      "   996.84433395  996.84433395]\n",
      " ...\n",
      " [2838.86708128 2838.86708128 2838.86708128 ... 2838.86708128\n",
      "  2838.86708128 2838.86708128]\n",
      " [ 806.04099964  806.04099964  806.04099964 ...  806.04099964\n",
      "   806.04099964  806.04099964]\n",
      " [ 758.5801105   758.5801105   758.5801105  ...  758.5801105\n",
      "   758.5801105   758.5801105 ]] [[ 621.30736896  621.30736896  621.30736896 ...  621.30736896\n",
      "   621.30736896  621.30736896]\n",
      " [ 782.13055507  782.13055507  782.13055507 ...  782.13055507\n",
      "   782.13055507  782.13055507]\n",
      " [ 996.84433395  996.84433395  996.84433395 ...  996.84433395\n",
      "   996.84433395  996.84433395]\n",
      " ...\n",
      " [2838.86708128 2838.86708128 2838.86708128 ... 2838.86708128\n",
      "  2838.86708128 2838.86708128]\n",
      " [ 806.04099964  806.04099964  806.04099964 ...  806.04099964\n",
      "   806.04099964  806.04099964]\n",
      " [ 758.5801105   758.5801105   758.5801105  ...  758.5801105\n",
      "   758.5801105   758.5801105 ]] [[0. 0. 0. ... 0. 0. 0.]\n",
      " [0. 0. 0. ... 0. 0. 0.]\n",
      " [0. 0. 0. ... 0. 0. 0.]\n",
      " ...\n",
      " [0. 0. 0. ... 0. 0. 0.]\n",
      " [0. 0. 0. ... 0. 0. 0.]\n",
      " [0. 0. 0. ... 0. 0. 0.]]\n"
     ]
    },
    {
     "name": "stderr",
     "output_type": "stream",
     "text": [
      "\n"
     ]
    },
    {
     "ename": "ValueError",
     "evalue": "setting an array element with a sequence.",
     "output_type": "error",
     "traceback": [
      "\u001b[0;31m---------------------------------------------------------------------------\u001b[0m",
      "\u001b[0;31mTypeError\u001b[0m                                 Traceback (most recent call last)",
      "\u001b[0;31mTypeError\u001b[0m: only size-1 arrays can be converted to Python scalars",
      "\nThe above exception was the direct cause of the following exception:\n",
      "\u001b[0;31mValueError\u001b[0m                                Traceback (most recent call last)",
      "Cell \u001b[0;32mIn[39], line 4\u001b[0m\n\u001b[1;32m      1\u001b[0m nn \u001b[39m=\u001b[39m NeuralNet(X_train, y_train)\n\u001b[1;32m      2\u001b[0m \u001b[39m#print(nn.get_weights())\u001b[39;00m\n\u001b[0;32m----> 4\u001b[0m loss \u001b[39m=\u001b[39m nn\u001b[39m.\u001b[39;49mfit(X_train, y_train, lr\u001b[39m=\u001b[39;49m\u001b[39m0.001\u001b[39;49m, epochs\u001b[39m=\u001b[39;49m\u001b[39m100\u001b[39;49m)\n\u001b[1;32m      6\u001b[0m nn\u001b[39m.\u001b[39mget_weights()\n",
      "Cell \u001b[0;32mIn[38], line 95\u001b[0m, in \u001b[0;36mNeuralNet.fit\u001b[0;34m(self, x, y, lr, epochs)\u001b[0m\n\u001b[1;32m     91\u001b[0m \u001b[39mfor\u001b[39;00m _ \u001b[39min\u001b[39;00m tqdm(\u001b[39mrange\u001b[39m(epochs)):\n\u001b[1;32m     92\u001b[0m     \u001b[39m#print(self.W1)\u001b[39;00m\n\u001b[1;32m     93\u001b[0m     \u001b[39mself\u001b[39m\u001b[39m.\u001b[39mloss_acum\u001b[39m.\u001b[39mappend(\u001b[39mself\u001b[39m\u001b[39m.\u001b[39mloss(x, y))\n\u001b[0;32m---> 95\u001b[0m     dW1, db1, dW2, db2 \u001b[39m=\u001b[39m \u001b[39mself\u001b[39;49m\u001b[39m.\u001b[39;49mnumerical_gradient(x, y, eps)\n\u001b[1;32m     96\u001b[0m     \u001b[39m#print(dW1)\u001b[39;00m\n\u001b[1;32m     98\u001b[0m     \u001b[39mself\u001b[39m\u001b[39m.\u001b[39mupdate_weights(lr, dW1, db1, dW2, db2)\n",
      "Cell \u001b[0;32mIn[38], line 45\u001b[0m, in \u001b[0;36mNeuralNet.numerical_gradient\u001b[0;34m(self, x, y, eps)\u001b[0m\n\u001b[1;32m     43\u001b[0m         loss2 \u001b[39m=\u001b[39m \u001b[39mself\u001b[39m\u001b[39m.\u001b[39mloss(x, y)\n\u001b[1;32m     44\u001b[0m         \u001b[39mprint\u001b[39m(loss1, loss2, (loss1 \u001b[39m-\u001b[39m loss2) \u001b[39m/\u001b[39m (\u001b[39m2\u001b[39m \u001b[39m*\u001b[39m eps))\n\u001b[0;32m---> 45\u001b[0m         dW1[i, j] \u001b[39m=\u001b[39m (loss1 \u001b[39m-\u001b[39m loss2) \u001b[39m/\u001b[39m (\u001b[39m2\u001b[39m \u001b[39m*\u001b[39m eps)\n\u001b[1;32m     46\u001b[0m         \u001b[39mself\u001b[39m\u001b[39m.\u001b[39mW1[i, j] \u001b[39m+\u001b[39m\u001b[39m=\u001b[39m eps\n\u001b[1;32m     48\u001b[0m \u001b[39mfor\u001b[39;00m i \u001b[39min\u001b[39;00m \u001b[39mrange\u001b[39m(\u001b[39mself\u001b[39m\u001b[39m.\u001b[39mb1\u001b[39m.\u001b[39mshape[\u001b[39m0\u001b[39m]):\n",
      "\u001b[0;31mValueError\u001b[0m: setting an array element with a sequence."
     ]
    }
   ],
   "source": [
    "nn = NeuralNet(X_train, y_train)\n",
    "#print(nn.get_weights())\n",
    "\n",
    "loss = nn.fit(X_train, y_train, lr=0.001, epochs=100)\n",
    "\n",
    "nn.get_weights()"
   ]
  },
  {
   "cell_type": "code",
   "execution_count": 10,
   "metadata": {},
   "outputs": [
    {
     "data": {
      "text/plain": [
       "array([27.3])"
      ]
     },
     "execution_count": 10,
     "metadata": {},
     "output_type": "execute_result"
    }
   ],
   "source": [
    "y_test[0]"
   ]
  },
  {
   "cell_type": "code",
   "execution_count": 13,
   "metadata": {},
   "outputs": [
    {
     "data": {
      "text/plain": [
       "array([[18.43816413]])"
      ]
     },
     "execution_count": 13,
     "metadata": {},
     "output_type": "execute_result"
    }
   ],
   "source": [
    "nn.predict(X_test[0].reshape(1, -1))"
   ]
  },
  {
   "cell_type": "code",
   "execution_count": 20,
   "metadata": {},
   "outputs": [
    {
     "data": {
      "text/plain": [
       "[<matplotlib.lines.Line2D at 0x7f7ef128f3d0>]"
      ]
     },
     "execution_count": 20,
     "metadata": {},
     "output_type": "execute_result"
    },
    {
     "data": {
      "image/png": "[encoded data removed]",
      "text/plain": [
       "<Figure size 640x480 with 1 Axes>"
      ]
     },
     "metadata": {},
     "output_type": "display_data"
    }
   ],
   "source": [
    "plt.plot(loss)"
   ]
  },
  {
   "cell_type": "code",
   "execution_count": null,
   "metadata": {},
   "outputs": [],
   "source": []
  }
 ],
 "metadata": {
  "kernelspec": {
   "display_name": "coding",
   "language": "python",
   "name": "python3"
  },
  "language_info": {
   "codemirror_mode": {
    "name": "ipython",
    "version": 3
   },
   "file_extension": ".py",
   "mimetype": "text/x-python",
   "name": "python",
   "nbconvert_exporter": "python",
   "pygments_lexer": "ipython3",
   "version": "3.8.12"
  },
  "orig_nbformat": 4
 },
 "nbformat": 4,
 "nbformat_minor": 2
}
