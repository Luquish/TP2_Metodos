{
 "cells": [
  {
   "cell_type": "code",
   "execution_count": null,
   "metadata": {},
   "outputs": [],
   "source": [
    "import numpy as np\n",
    "import sympy as sym\n",
    "from IPython.display import display, Math"
   ]
  },
  {
   "attachments": {},
   "cell_type": "markdown",
   "metadata": {},
   "source": [
    "L = \\frac{1}{2} (W_2 \\frac{1}{1 + e^{-(W_1 x_i + b_1)}} + b_2 - y_i)^2 \\\\"
   ]
  },
  {
   "cell_type": "code",
   "execution_count": 4,
   "metadata": {},
   "outputs": [
    {
     "name": "stdout",
     "output_type": "stream",
     "text": [
      "Requirement already satisfied: sympy in /Users/nacho/opt/anaconda3/envs/coding/lib/python3.8/site-packages (1.12)\n",
      "Requirement already satisfied: mpmath>=0.19 in /Users/nacho/opt/anaconda3/envs/coding/lib/python3.8/site-packages (from sympy) (1.3.0)\n"
     ]
    }
   ],
   "source": [
    "!pip3 install sympy"
   ]
  },
  {
   "attachments": {},
   "cell_type": "markdown",
   "metadata": {},
   "source": [
    "$L = \\frac{1}{2} (W_2 \\frac{1}{1 + e^{-(W_1 x_i + b_1)}} + b_2 - y_i)^2 \\\\$"
   ]
  },
  {
   "cell_type": "code",
   "execution_count": 11,
   "metadata": {},
   "outputs": [
    {
     "data": {
      "text/latex": [
       "$\\displaystyle \\frac{1.0 W_{2} x_{i} \\left(\\frac{W_{2}}{e^{- W_{1} x_{i} - b_{1}} + 1} + b_{2} - y_{i}\\right) e^{- W_{1} x_{i} - b_{1}}}{\\left(e^{- W_{1} x_{i} - b_{1}} + 1\\right)^{2}}$"
      ],
      "text/plain": [
       "<IPython.core.display.Math object>"
      ]
     },
     "metadata": {},
     "output_type": "display_data"
    },
    {
     "data": {
      "text/latex": [
       "$\\displaystyle \\frac{1.0 \\left(\\frac{W_{2}}{e^{- W_{1} x_{i} - b_{1}} + 1} + b_{2} - y_{i}\\right)}{e^{- W_{1} x_{i} - b_{1}} + 1}$"
      ],
      "text/plain": [
       "<IPython.core.display.Math object>"
      ]
     },
     "metadata": {},
     "output_type": "display_data"
    },
    {
     "data": {
      "text/latex": [
       "$\\displaystyle \\frac{1.0 W_{2} \\left(\\frac{W_{2}}{e^{- W_{1} x_{i} - b_{1}} + 1} + b_{2} - y_{i}\\right) e^{- W_{1} x_{i} - b_{1}}}{\\left(e^{- W_{1} x_{i} - b_{1}} + 1\\right)^{2}}$"
      ],
      "text/plain": [
       "<IPython.core.display.Math object>"
      ]
     },
     "metadata": {},
     "output_type": "display_data"
    },
    {
     "data": {
      "text/latex": [
       "$\\displaystyle \\frac{1.0 W_{2}}{e^{- W_{1} x_{i} - b_{1}} + 1} + 1.0 b_{2} - 1.0 y_{i}$"
      ],
      "text/plain": [
       "<IPython.core.display.Math object>"
      ]
     },
     "metadata": {},
     "output_type": "display_data"
    }
   ],
   "source": [
    "# L = 1/2 (W_2 1/(1 + e^(-(W_1 x_i + b_1))) + b_2 - y_i)^2\n",
    "\n",
    "W_1, W_2, b_1, b_2, x_i, y_i = sym.symbols('W_1 W_2 b_1 b_2 x_i y_i')\n",
    "l = 1/2 * (W_2 * 1/(1 + sym.exp(-(W_1 * x_i + b_1))) + b_2 - y_i)**2\n",
    "\n",
    "l_w1 = l.diff(W_1)\n",
    "l_w2 = l.diff(W_2)\n",
    "l_b1 = l.diff(b_1)\n",
    "l_b2 = l.diff(b_2)\n",
    "\n",
    "display(Math(sym.latex(l_w1)))\n",
    "display(Math(sym.latex(l_w2)))\n",
    "display(Math(sym.latex(l_b1)))\n",
    "display(Math(sym.latex(l_b2)))\n"
   ]
  },
  {
   "attachments": {},
   "cell_type": "markdown",
   "metadata": {},
   "source": [
    "\n",
    "$$\n",
    "f_\\theta(x) = W_2 \\sigma(W_1 x + b_1) + b_2,\n",
    "$$"
   ]
  },
  {
   "attachments": {},
   "cell_type": "markdown",
   "metadata": {},
   "source": [
    "$$\n",
    "\\sigma(x) = \\frac{1}{1 + e^{-x}}\n",
    "$$"
   ]
  },
  {
   "attachments": {},
   "cell_type": "markdown",
   "metadata": {},
   "source": [
    "$$\n",
    "z_0 = x\n",
    "\\\\\n",
    "z_1 = \\sigma(W_1 x + b_1)\n",
    "\\\\\n",
    "z_2 = W_2 z_1 + b_2\n",
    "\\\\\n",
    "f_\\theta(x) = W_2 \\sigma(W_1 x + b_1) + b_2\n",
    "$$"
   ]
  },
  {
   "attachments": {},
   "cell_type": "markdown",
   "metadata": {},
   "source": [
    "$$\n",
    "f_\\theta(x) = W_2 \\sigma(W_1 x + b_1) + b_2 \\\\\n",
    "L = \\frac{1}{2} (f_\\theta(x_i) - y_i)^2 \\\\\n",
    "L = \\frac{1}{2} (W_2 \\sigma(W_1 x_i + b_1) + b_2 - y_i)^2 \\\\\n",
    "\n",
    "\\sigma(x) = \\frac{1}{1 + e^{-x}} \\\\\n",
    "\n",
    "L = \\frac{1}{2} (W_2 \\frac{1}{1 + e^{-(W_1 x_i + b_1)}} + b_2 - y_i)^2 \\\\\n",
    "$$\n",
    "\n",
    "$$\n",
    "\\theta = (W_1, b_1, W_2, b_2) \\\\\n",
    "$$\n",
    "\n",
    "$$\n",
    "\\frac{\\partial L}{\\partial W_2} = \n",
    "$$\n",
    "\n"
   ]
  },
  {
   "attachments": {},
   "cell_type": "markdown",
   "metadata": {},
   "source": [
    "$$\n",
    "\\theta_{t+1} = \\theta_t - \\alpha \\frac{\\partial L}{\\partial \\theta}(\\theta_t)\\\\\n",
    "$$\n",
    "\n",
    "$$\n",
    "W_{1_{t+1}} = W_{1_{t}} - \\alpha \\frac{\\partial L}{\\partial W_1}(\\theta_t)\\\\\n",
    "$$\n",
    "\n",
    "$$\n",
    "b_{1_{t+1}} = b_{1_{t}} - \\alpha \\frac{\\partial L}{\\partial b_1}(\\theta_t)\\\\\n",
    "$$\n",
    "\n",
    "$$\n",
    "W_{2_{t+1}} = W_{2_{t}} - \\alpha \\frac{\\partial L}{\\partial W_2}(\\theta_t)\\\\\n",
    "$$\n",
    "\n",
    "$$\n",
    "b_{2_{t+1}} = b_{2_{t}} - \\alpha \\frac{\\partial L}{\\partial b_2}(\\theta_t)\\\\\n",
    "$$\n"
   ]
  },
  {
   "attachments": {},
   "cell_type": "markdown",
   "metadata": {},
   "source": []
  }
 ],
 "metadata": {
  "kernelspec": {
   "display_name": "coding",
   "language": "python",
   "name": "python3"
  },
  "language_info": {
   "codemirror_mode": {
    "name": "ipython",
    "version": 3
   },
   "file_extension": ".py",
   "mimetype": "text/x-python",
   "name": "python",
   "nbconvert_exporter": "python",
   "pygments_lexer": "ipython3",
   "version": "3.8.12"
  },
  "orig_nbformat": 4
 },
 "nbformat": 4,
 "nbformat_minor": 2
}
